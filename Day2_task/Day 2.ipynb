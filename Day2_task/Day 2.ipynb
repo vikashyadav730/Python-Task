{
 "cells": [
  {
   "cell_type": "markdown",
   "metadata": {},
   "source": [
    "<h2><img src=\"https://www.pentagonspace.in/assets/images/logo/logo-dark.png\" alt=\"pentagonspace.com/\" align=left></h2>\n",
    "<div class=\"a\" align=right>\n",
    "    <font style=\"border:white; border-width:10px; border-style:outset;\"width=\"100\" height=\"100\" color = 'blue'> \n",
    "Bootcamp Session </font>\n",
    "</div >\n",
    "\n",
    "<div id=\"myCarousel\" class=\"carousel slide text-center\" data-ride=\"carousel\">\n",
    "\n",
    "  <div class=\"carousel-inner\" role=\"listbox\">\n",
    "    <div class=\"item active\">\n",
    "    <h2>Day 2 Questions </h2>\n",
    "    </div>\n",
    "  </div>"
   ]
  },
  {
   "cell_type": "markdown",
   "metadata": {},
   "source": [
    "**Q1.)Greatest Of 3**\n",
    "You just need to take three number as input from stdin and you need to find greatest of them.\n",
    "\n",
    "**Input Format**  \n",
    "You will be taking three numbers as an input from stdin one on each line respectively.\n",
    "\n",
    "\n",
    "**Output Format**  \n",
    "You need to print the greatest of the three numbers to the stdout.\n",
    "\n",
    "**Sample TestCase 1**  \n",
    ">**Input**  \n",
    "902  \n",
    "100  \n",
    "666  \n",
    "\n",
    ">**Output**  \n",
    "902  "
   ]
  },
  {
   "cell_type": "code",
   "execution_count": 1,
   "metadata": {},
   "outputs": [
    {
     "name": "stdout",
     "output_type": "stream",
     "text": [
      "902\n"
     ]
    }
   ],
   "source": [
    "x=902,100,666\n",
    "print(max(x))"
   ]
  },
  {
   "cell_type": "markdown",
   "metadata": {},
   "source": [
    "**Q2.)10% Discount**  \n",
    "A shop will give discount of 10% if the cost of purchased quantity is more than 1000.\n",
    "\n",
    "**Input Format**  \n",
    "You will be taking input from stdin one on each line respectively.\n",
    "\n",
    "\n",
    "**Output Format**  \n",
    "You need to Judge and print total cost for user.\n",
    "\n",
    "**Sample TestCase 1**  \n",
    ">**Input**  \n",
    "1023\n",
    "\n",
    ">**Output**  \n",
    "920.7 "
   ]
  },
  {
   "cell_type": "code",
   "execution_count": 9,
   "metadata": {},
   "outputs": [
    {
     "ename": "IndentationError",
     "evalue": "unexpected indent (<ipython-input-9-0e66fef715ee>, line 4)",
     "output_type": "error",
     "traceback": [
      "\u001b[1;36m  File \u001b[1;32m\"<ipython-input-9-0e66fef715ee>\"\u001b[1;36m, line \u001b[1;32m4\u001b[0m\n\u001b[1;33m    print(x)\u001b[0m\n\u001b[1;37m    ^\u001b[0m\n\u001b[1;31mIndentationError\u001b[0m\u001b[1;31m:\u001b[0m unexpected indent\n"
     ]
    }
   ],
   "source": [
    "x=int(input(\"enter:\"))\n"
   ]
  },
  {
   "cell_type": "markdown",
   "metadata": {},
   "source": [
    "**Q3.)Company Bonus**  \n",
    "A company decided to give bonus of 5% to employee if his/her year of service is more than 5 years.\n",
    "\n",
    "**Input Format**  \n",
    "You will be taking input as a salary and year from stdin one on each line respectively.\n",
    "\n",
    "\n",
    "**Output Format**  \n",
    "You need to print the net bonus amount.\n",
    "\n",
    "**Sample TestCase 1**  \n",
    ">**Input**  \n",
    "Salary = 102893<br>\n",
    "year = 6\n",
    "\n",
    ">**Output**  \n",
    "108037.65"
   ]
  },
  {
   "cell_type": "code",
   "execution_count": 4,
   "metadata": {},
   "outputs": [],
   "source": [
    "#write code here\n",
    " "
   ]
  },
  {
   "cell_type": "markdown",
   "metadata": {},
   "source": [
    "**Q4.)Grading system**  \n",
    "A school has following rules for grading system:  \n",
    "a. Below 25 - F  \n",
    "b. 25 to 45 - E  \n",
    "c. 45 to 50 - D  \n",
    "d. 50 to 60 - C  \n",
    "e. 60 to 80 - B  \n",
    "f. Above 80 - A  \n",
    "\n",
    "**Input Format**  \n",
    "You will be Ask user to enter marks\n",
    "\n",
    "\n",
    "**Output Format**  \n",
    "You need to print the corresponding grade.\n",
    "\n",
    "**Sample TestCase 1**  \n",
    ">**Input**  \n",
    "marks = 56\n",
    "\n",
    ">**Output**  \n",
    "C"
   ]
  },
  {
   "cell_type": "code",
   "execution_count": 5,
   "metadata": {},
   "outputs": [],
   "source": [
    "#write code here"
   ]
  },
  {
   "cell_type": "markdown",
   "metadata": {},
   "source": [
    "**Q5.)place of service**  \n",
    "Ask user to enter age, sex ( M or F ), marital status ( Y or N ) and then using following rules print their place of service.\n",
    "if employee is female, then she will work only in urban areas.\n",
    "if employee is a male and age is in between 20 to 40 then he may work in anywhere\n",
    "if employee is male and age is in between 40 t0 60 then he will work in urban areas only.\n",
    "And any other input of age should print \"ERROR\".\n",
    "\n",
    "**Input Format**  \n",
    "You will be taking input from stdin one on each line respectively.\n",
    "\n",
    "\n",
    "**Output Format**  \n",
    "You need to print their place of service.\n",
    "\n",
    "**Sample TestCase 1**  \n",
    ">**Input**  \n",
    "Enter age  \n",
    "34  \n",
    "Enter SEX(M or F)?  \n",
    "M<br>\n",
    "Enter MARRIED(Y or N)?     \n",
    "Y  \n",
    "\n",
    ">**Output**  \n",
    "You can work anywhere"
   ]
  },
  {
   "cell_type": "code",
   "execution_count": null,
   "metadata": {},
   "outputs": [],
   "source": [
    "#write code here"
   ]
  },
  {
   "cell_type": "markdown",
   "metadata": {},
   "source": [
    "**Q6.)Weird and Not Weird**  \n",
    "Given an integer,n, perform the following conditional actions:\n",
    "\n",
    "If n is odd, print Weird\n",
    "If n is even and in the inclusive range of 2 to 5, print Not Weird\n",
    "If n is even and in the inclusive range of 6 to 20, print Weird\n",
    "If n is even and greater than 20, print Not Weird\n",
    "\n",
    "**Input Format**  \n",
    "A single line containing a positive integer, n.\n",
    "\n",
    "\n",
    "**Output Format**  \n",
    "Print Weird if the number is weird. Otherwise, print Not Weird.\n",
    "\n",
    "**Sample TestCase 1**  \n",
    ">**Input**  \n",
    "3\n",
    "\n",
    ">**Output**  \n",
    "Weird"
   ]
  },
  {
   "cell_type": "code",
   "execution_count": null,
   "metadata": {},
   "outputs": [],
   "source": []
  },
  {
   "cell_type": "markdown",
   "metadata": {},
   "source": [
    "**Q7.)Alphabet**  \n",
    "Write a Python program to check whether an alphabet is a vowel or consonant. \n",
    "\n",
    "**Input Format**  \n",
    "You will be taking a string as an input.\n",
    "\n",
    "\n",
    "**Output Format**  \n",
    "Print whether a character is vowel or consonant\n",
    "\n",
    "**Sample TestCase 1**  \n",
    ">**Input**  \n",
    "k\n",
    "\n",
    ">**Output**  \n",
    "consonant"
   ]
  },
  {
   "cell_type": "code",
   "execution_count": null,
   "metadata": {},
   "outputs": [],
   "source": []
  },
  {
   "cell_type": "markdown",
   "metadata": {},
   "source": [
    "<div class=\"jumbotron text-center\">\n",
    "  <h1 class=\"display-3\">Thank You!</h1>\n",
    "  <p class=\"lead\">if you have any queries please feel free to contact on \"Vikash@pentagonspace.in\".</p>\n",
    "</div>"
   ]
  },
  {
   "cell_type": "code",
   "execution_count": null,
   "metadata": {},
   "outputs": [],
   "source": []
  }
 ],
 "metadata": {
  "kernelspec": {
   "display_name": "Python 3",
   "language": "python",
   "name": "python3"
  },
  "language_info": {
   "codemirror_mode": {
    "name": "ipython",
    "version": 3
   },
   "file_extension": ".py",
   "mimetype": "text/x-python",
   "name": "python",
   "nbconvert_exporter": "python",
   "pygments_lexer": "ipython3",
   "version": "3.9.6"
  }
 },
 "nbformat": 4,
 "nbformat_minor": 4
}
