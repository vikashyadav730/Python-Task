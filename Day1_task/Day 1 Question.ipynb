{
 "cells": [
  {
   "cell_type": "markdown",
   "metadata": {},
   "source": [
    "<div class=\"a\" align=right>\n",
    "    <font style=\"border:white; border-width:10px; border-style:outset;\"width=\"100\" height=\"100\" color = 'blue'> \n",
    "Vikash </font>\n",
    "</div >\n",
    "\n",
    "<div id=\"myCarousel\" class=\"carousel slide text-center\" data-ride=\"carousel\">\n",
    "\n",
    "  <div class=\"carousel-inner\" role=\"listbox\">\n",
    "    <div class=\"item active\">\n",
    "    <h2>Day 1 Questions </h2>\n",
    "    </div>\n",
    "  </div>"
   ]
  },
  {
   "cell_type": "markdown",
   "metadata": {},
   "source": [
    "**Q1.) Print Exact Slice Of String**  \n",
    "You need to take string input and two other numbers which will be the start and end point of the slice and you need to print that slice of string to the jupyter cell.\n",
    "\n",
    "**Input Format**  \n",
    "You will be taking a string as an input from user and two integers one on each line.\n",
    "\n",
    "\n",
    "**Output Format**  \n",
    "You need to print the slice of the string to the jupyter cell.\n",
    "\n",
    "**Sample TestCase 1**\n",
    ">**Input**\n",
    ">> Hello Pentagon  \n",
    ">> 1<br> \n",
    ">> 4\n",
    "\n",
    ">**Output**  \n",
    ">>ello"
   ]
  },
  {
   "cell_type": "code",
   "execution_count": null,
   "metadata": {},
   "outputs": [],
   "source": []
  },
  {
   "cell_type": "markdown",
   "metadata": {},
   "source": [
    "**Q2.) Print First Character**  \n",
    "You just need to take string input from stdin and print the first character of the string to the jupyter cell.\n",
    "\n",
    "**Input Format**  \n",
    "You will be taking a string as an input from user.\n",
    "\n",
    "**Output Format**  \n",
    "You need to print the first character of the string to the jupyter cell.  \n",
    "\n",
    "**Sample TestCase 1**  \n",
    ">**Input**\n",
    ">>Hello Pentagone\n",
    "\n",
    ">**Output**\n",
    ">>H"
   ]
  },
  {
   "cell_type": "code",
   "execution_count": null,
   "metadata": {
    "scrolled": false
   },
   "outputs": [],
   "source": []
  },
  {
   "cell_type": "markdown",
   "metadata": {},
   "source": [
    "**Q3.) String swap String**  \n",
    "You just need to take string input from user and print the string in which all the case-based characters have had their case swapped.\n",
    "\n",
    "**Input Format**  \n",
    "You will be taking a string as an input from user. \n",
    "\n",
    "\n",
    "**Output Format**  \n",
    "You need to print the string to the jupyter cell. \n",
    "\n",
    "**Sample TestCase 1** \n",
    ">**Input**  \n",
    ">>Hello pENTAGON sPACE  \n",
    "\n",
    ">**Output**  \n",
    ">>hELLO Pentagon Space"
   ]
  },
  {
   "cell_type": "code",
   "execution_count": null,
   "metadata": {},
   "outputs": [],
   "source": []
  },
  {
   "cell_type": "markdown",
   "metadata": {},
   "source": [
    "**Q4.) String strip**  \n",
    "You just need to take string input from user and print the string in which all whitespaces have been stripped from the end of the string.\n",
    "\n",
    "**Input Format**  \n",
    "You will be taking a string as an input from user.\n",
    "\n",
    "**Output Format**  \n",
    "You need to print the string to the jupyter cell.\n",
    "\n",
    "**Sample TestCase 1** \n",
    ">**Input**  \n",
    ">>        Hello Pentagon Space                  \n",
    "\n",
    ">**Output**  \n",
    ">>Hello Pentagon Space\n"
   ]
  },
  {
   "cell_type": "code",
   "execution_count": null,
   "metadata": {},
   "outputs": [],
   "source": [
    "\n"
   ]
  },
  {
   "cell_type": "markdown",
   "metadata": {},
   "source": [
    "**Q5.) String rstrip**\n",
    "You just need to take string input from user and print the string in which all whitespaces have been stripped from the end of the string.\n",
    "\n",
    "**Input Format**  \n",
    "You will be taking a string as an input from user. \n",
    "\n",
    "\n",
    "**Output Format**  \n",
    "You need to print the string to the jupyter cell. \n",
    "\n",
    "**Sample TestCase 1** \n",
    ">**Input**  \n",
    ">>Hello Pentagon Space                  \n",
    "\n",
    ">**Output**  \n",
    ">>Hello Pentagon Space"
   ]
  },
  {
   "cell_type": "code",
   "execution_count": null,
   "metadata": {},
   "outputs": [],
   "source": []
  },
  {
   "cell_type": "markdown",
   "metadata": {},
   "source": [
    "**Q6.) String replace**  \n",
    "You just need to take string input from stdin and print the string in which Replace all occurrences of “ABC” with “Pen” in str.\n",
    "\n",
    "**Input Format**  \n",
    "You will be taking a string as an input from user. \n",
    "\n",
    "**Output Format**  \n",
    "You need to print the string to the jupyter cell. \n",
    "\n",
    "**Sample TestCase 1** \n",
    ">**Input**  \n",
    ">>Hello ABCtagon Space\n",
    "\n",
    ">**Output**  \n",
    ">>Hello Pentagon Space"
   ]
  },
  {
   "cell_type": "code",
   "execution_count": null,
   "metadata": {
    "scrolled": false
   },
   "outputs": [],
   "source": []
  },
  {
   "cell_type": "markdown",
   "metadata": {},
   "source": [
    "**Q7.) String max**  \n",
    "You just need to take string input from user and print the max alphabetical character from the string.\n",
    "\n",
    "**Input Format**  \n",
    "You will be taking a string as an input from user. \n",
    "\n",
    "**Output Format**  \n",
    "You need to print the max alphabetical character from the string to the jupyter cell.\n",
    "\n",
    "**Sample TestCase 1** \n",
    ">**Input**  \n",
    ">>Hello Pentagon Space                  \n",
    "\n",
    ">**Output**  \n",
    ">> t"
   ]
  },
  {
   "cell_type": "code",
   "execution_count": null,
   "metadata": {},
   "outputs": [],
   "source": []
  },
  {
   "cell_type": "markdown",
   "metadata": {},
   "source": [
    "**Q8.) String min**  \n",
    "You just need to take string input from user and print the min alphabetical character from the string.\n",
    "\n",
    "**Input Format**  \n",
    "You will be taking a string as an input from user. \n",
    "\n",
    "**Output Format**  \n",
    "You need to print the min alphabetical character from the string to the jupyter cell.\n",
    "\n",
    "**Sample TestCase 1** \n",
    "\n",
    ">**Input**  \n",
    ">>Hello Pentagon Space                  \n",
    "\n",
    ">**Output**  \n",
    ">> H"
   ]
  },
  {
   "cell_type": "code",
   "execution_count": null,
   "metadata": {
    "scrolled": true
   },
   "outputs": [],
   "source": []
  },
  {
   "cell_type": "markdown",
   "metadata": {},
   "source": [
    "**Q9.) String lower**  \n",
    "You just need to take string input from user and print the string in which all case-based characters have been lowercased.\n",
    "\n",
    "**Input Format**  \n",
    "You will be taking a string as an input from jupyter cell. \n",
    "\n",
    "**Output Format**  \n",
    "You need to print the string to the user.\n",
    "\n",
    "**Sample TestCase 1** \n",
    "\n",
    ">**Input**  \n",
    ">>PENTAGON SPACE                 \n",
    "\n",
    ">**Output**  \n",
    ">>pentagon space"
   ]
  },
  {
   "cell_type": "code",
   "execution_count": 9,
   "metadata": {},
   "outputs": [],
   "source": [
    "#write code here"
   ]
  },
  {
   "cell_type": "markdown",
   "metadata": {},
   "source": [
    "**Q10.) String len**  \n",
    "You just need to take string input from user and print the length of the string.\n",
    "\n",
    "**Input Format**  \n",
    "You will be taking a string as an input from user. \n",
    "\n",
    "**Output Format**  \n",
    "You need to print the length of the string to the jupyter cell.\n",
    "\n",
    "**Sample TestCase 1** \n",
    "\n",
    ">**Input**  \n",
    ">>PENTAGON SPACE                 \n",
    "\n",
    ">**Output**  \n",
    ">>14"
   ]
  },
  {
   "cell_type": "code",
   "execution_count": null,
   "metadata": {},
   "outputs": [],
   "source": []
  },
  {
   "cell_type": "markdown",
   "metadata": {},
   "source": [
    "user**Q11.) String join**   \n",
    "You just need to take string input from user and bunch from strings one on each line and you need to concatenate them as shown in the sample.\n",
    "\n",
    "**Input Format**  \n",
    "You will be taking strings as an input from user one on each line respectively. \n",
    "\n",
    "**Output Format**  \n",
    "You need to print the string after concatenation to the jupyter cell.\n",
    "\n",
    "**Sample TestCase 1** \n",
    "\n",
    "**Input**  \n",
    ">_  \n",
    "<br>\n",
    ">a \n",
    "<br>\n",
    ">b  \n",
    ">c  \n",
    "<br>\n",
    "\n",
    "**Output**  \n",
    ">a_b_c"
   ]
  },
  {
   "cell_type": "code",
   "execution_count": 11,
   "metadata": {},
   "outputs": [],
   "source": [
    "#write code here"
   ]
  },
  {
   "cell_type": "markdown",
   "metadata": {},
   "source": [
    "**Q12.) String isupper**  \n",
    "You just need to take string input from user and checks whether all the case-based characters (letters) of the string are uppercase.\n",
    "\n",
    "**Input Format**  \n",
    "You will be taking strings as an input from user one on each line respectively. \n",
    "\n",
    "**Output Format**  \n",
    "You need to print the boolean value(either True or False) to the jupyter cell.\n",
    "\n",
    "**Sample TestCase 1** \n",
    "\n",
    "**Input**  \n",
    ">This Is String Example\n",
    "\n",
    "**Output**  \n",
    ">False"
   ]
  },
  {
   "cell_type": "code",
   "execution_count": null,
   "metadata": {},
   "outputs": [],
   "source": []
  },
  {
   "cell_type": "markdown",
   "metadata": {},
   "source": [
    "**Q13.) String istitle**  \n",
    "You just need to take string input from user and checks whether all the case-based characters in the string following non-casebased letters. Non-casebased letters are uppercase and all other case-based characters are lowercase.\n",
    "\n",
    "**Input Format**  \n",
    "You will be taking strings as an input from user one on each line respectively. \n",
    "\n",
    "**Output Format**  \n",
    "You need to print the boolean value(either True or False) to the jupyter cell.\n",
    "\n",
    "**Sample TestCase 1** \n",
    "\n",
    "**Input**  \n",
    ">This Is String Example\n",
    "\n",
    "**Output**  \n",
    ">True"
   ]
  },
  {
   "cell_type": "code",
   "execution_count": null,
   "metadata": {},
   "outputs": [],
   "source": []
  },
  {
   "cell_type": "markdown",
   "metadata": {},
   "source": [
    "**Q14.) String isnumeric**  \n",
    "You just need to take string input from user and checks whether the string consists of only numeric characters. This method is present only on Unicode objects.\n",
    "\n",
    "**Input Format**  \n",
    "You will be taking strings as an input from user one on each line respectively. \n",
    "\n",
    "**Output Format**  \n",
    "You need to print the boolean value(either True or False) to the jupyter cell.\n",
    "\n",
    "**Sample TestCase 1** \n",
    "\n",
    "**Input**  \n",
    ">this20008\n",
    "\n",
    "**Output**  \n",
    ">False"
   ]
  },
  {
   "cell_type": "code",
   "execution_count": null,
   "metadata": {},
   "outputs": [],
   "source": []
  },
  {
   "cell_type": "markdown",
   "metadata": {},
   "source": [
    "**Q15.) String isdigit**  \n",
    "You just need to take string input from user and checks whether the string consists of digits only.\n",
    "\n",
    "**Input Format**  \n",
    "You will be taking strings as an input from user one on each line respectively. \n",
    "\n",
    "**Output Format**  \n",
    "You need to print the boolean value(either True or False) to the jupyter cell.\n",
    "\n",
    "**Sample TestCase 1** \n",
    "\n",
    "**Input**  \n",
    ">this2009\n",
    "\n",
    "**Output**  \n",
    ">False"
   ]
  },
  {
   "cell_type": "code",
   "execution_count": null,
   "metadata": {},
   "outputs": [],
   "source": []
  },
  {
   "cell_type": "markdown",
   "metadata": {},
   "source": [
    "**Q16.) String Repetition**  \n",
    "You just need to take a string and a integer as an input from user and repeat the string upto the count given as in integer.\n",
    "\n",
    "**Input Format**  \n",
    "You will be taking strings as an input from user one on each line respectively. \n",
    "\n",
    "**Output Format**  \n",
    "You need to print the string to the jupyter cell.\n",
    "\n",
    "**Sample TestCase 1** \n",
    "\n",
    "**Input**  \n",
    ">Hello Python  \n",
    ">2\n",
    "\n",
    "**Output**  \n",
    ">Hello PythonHello Python"
   ]
  },
  {
   "cell_type": "code",
   "execution_count": null,
   "metadata": {},
   "outputs": [],
   "source": []
  },
  {
   "cell_type": "markdown",
   "metadata": {},
   "source": [
    "**Q17.) String Concatenation**  \n",
    "You just need to take two strings as input from user and concatenate them and print the concatenated string to the stdout.\n",
    "\n",
    "**Input Format**  \n",
    "You will be taking two strings as an input from user one on each line respectively.\n",
    "\n",
    "\n",
    "**Output Format**  \n",
    "You need to print the concatenated string to the jupyter cell.\n",
    "\n",
    "**Sample TestCase 1** \n",
    "\n",
    "**Input**  \n",
    ">Hello  \n",
    ">Pentagon Space\n",
    "\n",
    "**Output**  \n",
    ">Hello Pentagon Space"
   ]
  },
  {
   "cell_type": "code",
   "execution_count": null,
   "metadata": {},
   "outputs": [],
   "source": []
  },
  {
   "cell_type": "markdown",
   "metadata": {},
   "source": [
    "<div class=\"jumbotron text-center\">\n",
    "  <h1 class=\"display-3\">Thank You!</h1>\n",
    "  <p class=\"lead\">if you have any queries please feel free to contact on \"vikashyadav730@gmail.com\".</p>\n",
    "\n",
    "</div>"
   ]
  },
  {
   "cell_type": "code",
   "execution_count": null,
   "metadata": {},
   "outputs": [],
   "source": []
  }
 ],
 "metadata": {
  "kernelspec": {
   "display_name": "Python 3",
   "language": "python",
   "name": "python3"
  },
  "language_info": {
   "codemirror_mode": {
    "name": "ipython",
    "version": 3
   },
   "file_extension": ".py",
   "mimetype": "text/x-python",
   "name": "python",
   "nbconvert_exporter": "python",
   "pygments_lexer": "ipython3",
   "version": "3.9.6"
  }
 },
 "nbformat": 4,
 "nbformat_minor": 4
}
