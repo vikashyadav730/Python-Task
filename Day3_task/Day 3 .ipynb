{
 "cells": [
  {
   "cell_type": "markdown",
   "metadata": {},
   "source": [
    "<h2><img src=\"https://www.pentagonspace.in/assets/images/logo/logo-dark.png\" alt=\"pentagonspace.com/\" align=left></h2>\n",
    "<div class=\"a\" align=right>\n",
    "    <font style=\"border:white; border-width:10px; border-style:outset;\"width=\"100\" height=\"100\" color=\"green\"> \n",
    "Bootcamp Session </font>\n",
    "</div >\n",
    "\n",
    "\n",
    "<div id=\"myCarousel\" class=\"carousel slide text-center\" data-ride=\"carousel\">\n",
    "\n",
    "  <div class=\"carousel-inner\" role=\"listbox\">\n",
    "    <div class=\"item active\">\n",
    "    <h2>Day 3 Questions </h2>\n",
    "    </div>\n",
    "  </div>\n"
   ]
  },
  {
   "cell_type": "markdown",
   "metadata": {},
   "source": [
    "***``Note: Do not use any Method like : max,min,sort,....``***"
   ]
  },
  {
   "cell_type": "markdown",
   "metadata": {},
   "source": [
    "**Q1.)Even values**  \n",
    "Write python code that find the Even values from List\n",
    "\n",
    "**Input Format**  \n",
    "You will be taking a values as list from Question.\n",
    "\n",
    "**Output Format**  \n",
    "You need to print the Even values from list to the Question.\n",
    "\n",
    "**Sample TestCase 1**\n",
    ">Input  \n",
    "data = [52, 53, 54, 55, 56, 57, 58,78, 79, 80,34,45,45]\n",
    "\n",
    ">Output  \n",
    "[52, 54, 56, 58, 78, 80, 34]"
   ]
  },
  {
   "cell_type": "code",
   "execution_count": 6,
   "metadata": {},
   "outputs": [],
   "source": [
    "#write code here"
   ]
  },
  {
   "cell_type": "markdown",
   "metadata": {},
   "source": [
    "**Q2.)maximum values**  \n",
    "Write python code that find the maximum values from List\n",
    "\n",
    "**Input Format**  \n",
    "You will be taking a values as list from user.\n",
    "\n",
    "**Output Format**  \n",
    "You need to print the maximum values from list to the Jupyter cell.\n",
    "\n",
    "**Sample TestCase 1**\n",
    ">Input  \n",
    "data = [52, 53, 54, 55, 56, 57, 58,78, 79, 80,34,45,45]\n",
    "\n",
    ">Output  \n",
    "80"
   ]
  },
  {
   "cell_type": "code",
   "execution_count": 7,
   "metadata": {},
   "outputs": [],
   "source": [
    "#write code here"
   ]
  },
  {
   "cell_type": "markdown",
   "metadata": {},
   "source": [
    "**Q3.)single integer**  \n",
    "Write a Python program to convert a list of multiple integers into a single integer.\n",
    "\n",
    "**Input Format**  \n",
    "You will be taking a values as list from user.\n",
    "\n",
    "**Output Format**  \n",
    "You need to print the single integer to the Jupyter cell.\n",
    "\n",
    "**Sample TestCase 1**\n",
    ">Input  \n",
    "data = [52, 53, 54, 55, 56, 57]\n",
    "\n",
    ">Output  \n",
    "525354555657"
   ]
  },
  {
   "cell_type": "code",
   "execution_count": 1,
   "metadata": {},
   "outputs": [
    {
     "name": "stdout",
     "output_type": "stream",
     "text": [
      "525354555657"
     ]
    }
   ],
   "source": [
    "#write code here\n"
   ]
  },
  {
   "cell_type": "markdown",
   "metadata": {},
   "source": [
    "**Q4.)3rd Maximum**  \n",
    "Write a Python program to find 3rd maximum values from dataset.\n",
    "\n",
    "**Input Format**  \n",
    "You will be taking a values as list from user.\n",
    "\n",
    "**Output Format**  \n",
    "You need to print the maximum values to the Jupyter cell.\n",
    "\n",
    "**Sample TestCase 1**\n",
    ">Input  \n",
    "[20,67,3,2.6,7,74,2.8,90.8,52.8,4,3,2,5,7]\n",
    "\n",
    ">Output  \n",
    "67"
   ]
  },
  {
   "cell_type": "code",
   "execution_count": 9,
   "metadata": {},
   "outputs": [],
   "source": [
    "#write code here"
   ]
  },
  {
   "cell_type": "markdown",
   "metadata": {},
   "source": [
    "**Q5.)Find sum**  \n",
    "Write a Python program to find sum of integers and float values.\n",
    "\n",
    "**Input Format**  \n",
    "You will be taking a values as list.\n",
    "\n",
    "**Output Format**  \n",
    "You need to print the sum of list to the Jupyter cell.\n",
    "\n",
    "**Sample TestCase 1**\n",
    ">Input  \n",
    "[23,45,67,78,'Hello',34.34,34j,'Python',34,45.6,'ML']\n",
    "\n",
    ">Output  \n",
    "326.94"
   ]
  },
  {
   "cell_type": "code",
   "execution_count": 2,
   "metadata": {},
   "outputs": [],
   "source": [
    "#write code here        "
   ]
  },
  {
   "cell_type": "markdown",
   "metadata": {},
   "source": [
    "**Q6. Highest Score**  \n",
    "The score of N players is given and you have to find the highest score of an individual.  \n",
    "\n",
    "**Input Format**  \n",
    "The first line of input consists of number of players, N  \n",
    "The second line of input consist of N separated scores of players  \n",
    "\n",
    "**Sample TestCase**  \n",
    "**Input**  \n",
    ">5<br>\n",
    ">12  \n",
    ">14  \n",
    ">19  \n",
    ">67  \n",
    ">89  \n",
    "\n",
    "**Output**  \n",
    "> 89  \n"
   ]
  },
  {
   "cell_type": "code",
   "execution_count": 6,
   "metadata": {},
   "outputs": [],
   "source": [
    "#write code here\n"
   ]
  },
  {
   "cell_type": "markdown",
   "metadata": {},
   "source": [
    "###### **Q7.YUVI and MAXIMUM**  \n",
    "YUVI has provided you the score of his last 6 innings and you have to tell him the maximum total of 2 innings.\n",
    "\n",
    "**Input Format:**  \n",
    "The only line of input consist of score in last 6 innings.\n",
    "\n",
    "**Output Format:**  \n",
    "Print Maximum total of 2 innings\n",
    "\n",
    "\n",
    "**Sample TestCase 1**  \n",
    ">**input**  \n",
    "1 20 13 45 12\n",
    "\n",
    ">**output**  \n",
    "65\n"
   ]
  },
  {
   "cell_type": "code",
   "execution_count": 1,
   "metadata": {},
   "outputs": [],
   "source": [
    "#write code here\n"
   ]
  },
  {
   "cell_type": "markdown",
   "metadata": {},
   "source": [
    "<div class=\"jumbotron text-center\">\n",
    "  <h1 class=\"display-3\">Thank You!</h1>\n",
    "  <p class=\"lead\">if you have any queries please feel free to contact on \"Vikash@pentagonspace.in\".</p>\n",
    "\n",
    "</div>"
   ]
  },
  {
   "cell_type": "code",
   "execution_count": null,
   "metadata": {},
   "outputs": [],
   "source": []
  }
 ],
 "metadata": {
  "kernelspec": {
   "display_name": "Python 3 (ipykernel)",
   "language": "python",
   "name": "python3"
  },
  "language_info": {
   "codemirror_mode": {
    "name": "ipython",
    "version": 3
   },
   "file_extension": ".py",
   "mimetype": "text/x-python",
   "name": "python",
   "nbconvert_exporter": "python",
   "pygments_lexer": "ipython3",
   "version": "3.8.11"
  }
 },
 "nbformat": 4,
 "nbformat_minor": 4
}
