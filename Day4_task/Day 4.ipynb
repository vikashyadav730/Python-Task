{
 "cells": [
  {
   "cell_type": "markdown",
   "metadata": {},
   "source": [
    "<h2><img src=\"https://www.pentagonspace.in/assets/images/logo/logo-dark.png\" alt=\"pentagonspace.com/\" align=left></h2>\n",
    "<div class=\"a\" align=right>\n",
    "    <h4><font style=\"border:white; border-width:10px; border-style:outset;\"width=\"100\" height=\"100\" color = 'blue'>\n",
    "Bootcamp Session </font></h4>\n",
    "</div >\n",
    "<style>\n",
    "body {\n",
    "  font-family: 'Brush Script MT', cursive;\n",
    "}\n",
    "</style>\n",
    "<div id=\"myCarousel\" class=\"carousel slide text-center\" data-ride=\"carousel\">\n",
    "\n",
    "  <div class=\"carousel-inner\" role=\"listbox\">\n",
    "    <div class=\"item active\">\n",
    "    <h2>Day 4 Questions </h2>\n",
    "    </div>\n",
    "  </div>\n"
   ]
  },
  {
   "cell_type": "markdown",
   "metadata": {},
   "source": [
    "***``Note: Do not use any Method like : max,min,sort,....``***"
   ]
  },
  {
   "cell_type": "markdown",
   "metadata": {},
   "source": [
    "**Q1.)Element-wise sum**  \n",
    "Write a Python program to compute element-wise sum of given tuples.\n",
    "\n",
    "**Input Format**  \n",
    "You will be taking a values as tuples.\n",
    "\n",
    "**Output Format**  \n",
    "You need to print compute element-wise sum of given tuples.\n",
    "\n",
    "**Sample TestCase 1**\n",
    ">**Input**  \n",
    "[(1, 2, 3, 4),(3, 5, 2, 1),(2, 2, 3, 1)]\n",
    "\n",
    "\n",
    ">**Output**  \n",
    "(6, 9, 8, 6)"
   ]
  },
  {
   "cell_type": "code",
   "execution_count": 2,
   "metadata": {},
   "outputs": [],
   "source": [
    "#write code here\n"
   ]
  },
  {
   "cell_type": "markdown",
   "metadata": {},
   "source": [
    "**Q2.)Average**  \n",
    "Write a Python program to calculate the average value of the numbers in a given tuple of tuples.\n",
    "\n",
    "**Input Format**  \n",
    "You will be taking a values as tuples.\n",
    "\n",
    "**Output Format**  \n",
    "You need to print compute element-wise average of given tuples.\n",
    "\n",
    "**Sample TestCase 1**\n",
    ">**Input**  \n",
    "((10, 10, 10, 12), (30, 45, 56, 45), (81, 80, 39, 32), (1, 2, 3, 4))\n",
    "\n",
    "\n",
    ">**Output**  \n",
    "(30.5, 34.25, 27.0, 23.25)"
   ]
  },
  {
   "cell_type": "code",
   "execution_count": 3,
   "metadata": {},
   "outputs": [],
   "source": [
    "#write code here"
   ]
  },
  {
   "cell_type": "markdown",
   "metadata": {},
   "source": [
    "**Q3.)Sort Values**  \n",
    "Write a Python program to find the sort value of the numbers in a given tuple.\n",
    "\n",
    "**Input Format**  \n",
    "You will be taking a values as tuples.\n",
    "\n",
    "**Output Format**  \n",
    "You need to print sort value of given tuples.\n",
    "\n",
    "**Sample TestCase 1**\n",
    ">**Input**  \n",
    "(10, 10, 10, 12,30, 45, 56,'Python',1, 2, 3, 4)\n",
    "\n",
    "\n",
    ">**Output**  \n",
    "(1, 2, 3, 4, 10, 10, 10, 12, 30, 45, 56)"
   ]
  },
  {
   "cell_type": "code",
   "execution_count": 11,
   "metadata": {},
   "outputs": [],
   "source": [
    "#write code here"
   ]
  },
  {
   "cell_type": "markdown",
   "metadata": {},
   "source": [
    "**Q4.)Sort Tuple**  \n",
    "Given a Tuple List, perform sort on basis of total digits in tuple.\n",
    "\n",
    "**Input Format**  \n",
    "You will be taking a values as List.\n",
    "\n",
    "**Output Format**  \n",
    "You need to print sort tuple of given List.\n",
    "\n",
    "**Sample TestCase 1**\n",
    ">**Input**  \n",
    "[(3, 4, 6, 723), (1, 2), (134, 234, 34)] \n",
    "\n",
    "\n",
    ">**Output**  \n",
    "[(1, 2), (134, 234, 34), (3, 4, 6, 723)]  "
   ]
  },
  {
   "cell_type": "code",
   "execution_count": 1,
   "metadata": {},
   "outputs": [],
   "source": [
    "#write code here\n"
   ]
  },
  {
   "cell_type": "markdown",
   "metadata": {},
   "source": [
    "<div class=\"jumbotron text-center\">\n",
    "  <h1 class=\"display-3\">Thank You!</h1>\n",
    "  <p class=\"lead\">If you have any queries please feel free to contact on \"Vikash@pentagonspace.in\".</p>\n",
    "\n",
    "</div>"
   ]
  },
  {
   "cell_type": "code",
   "execution_count": null,
   "metadata": {},
   "outputs": [],
   "source": []
  }
 ],
 "metadata": {
  "kernelspec": {
   "display_name": "Python 3 (ipykernel)",
   "language": "python",
   "name": "python3"
  },
  "language_info": {
   "codemirror_mode": {
    "name": "ipython",
    "version": 3
   },
   "file_extension": ".py",
   "mimetype": "text/x-python",
   "name": "python",
   "nbconvert_exporter": "python",
   "pygments_lexer": "ipython3",
   "version": "3.8.11"
  }
 },
 "nbformat": 4,
 "nbformat_minor": 4
}
