{
 "cells": [
  {
   "cell_type": "markdown",
   "metadata": {},
   "source": [
    "<h2><img src=\"https://www.pentagonspace.in/assets/images/logo/logo-dark.png\" alt=\"pentagonspace.com/\" align=left></h2>\n",
    "<div class=\"a\" align=right>\n",
    "    <font style=\"border:white; border-width:10px; border-style:outset;\"width=\"100\" height=\"100\" COLOR = 'blue' > \n",
    "Grooming Session </font>\n",
    "</div >\n",
    "\n",
    "<div id=\"myCarousel\" class=\"carousel slide text-center\" data-ride=\"carousel\">\n",
    "\n",
    "  <div class=\"carousel-inner\" role=\"listbox\">\n",
    "    <div class=\"item active\">\n",
    "    <h2>Day 9 Questions </h2>\n",
    "    </div>\n",
    "  </div>\n"
   ]
  },
  {
   "cell_type": "markdown",
   "metadata": {},
   "source": [
    "***``Note: Do not use any Method like : max,min,sort,....``***"
   ]
  },
  {
   "cell_type": "markdown",
   "metadata": {},
   "source": [
    "**Q1.)Second Highest**  \n",
    "There are a total N students present in today's class. You are given student names and their respective height (in cms). You have to find names of all the second highest students (according to their heights). If there are multiple students , print each name on new line Print name of all the students having second highest height in alphabetical order.\n",
    "\n",
    "**Input Format**  \n",
    "First line will contain an Integer N, denoting the number of students.  \n",
    "Next 2 * N lines contains description of each student. first line contains name of the student and second line contains height of the student.\n",
    "\n",
    "**Output Format**  \n",
    "Print name of all the students having second highest height in alphabetical order.\n",
    "\n",
    "**Sample TestCase 1**\n",
    ">**Input**  \n",
    "4<br>\n",
    "saurabh  \n",
    "102  \n",
    "arpit  \n",
    "120  \n",
    "aditya  \n",
    "102  \n",
    "varun  \n",
    "101  \n",
    "\n",
    ">**Output**  \n",
    "aditya  \n",
    "saurabh"
   ]
  },
  {
   "cell_type": "code",
   "execution_count": 3,
   "metadata": {},
   "outputs": [],
   "source": [
    "#write code here"
   ]
  },
  {
   "cell_type": "markdown",
   "metadata": {},
   "source": [
    "**Q2.)Average Score**  \n",
    "There are N players with their score in last 3 matches. You will have to create a dictionary and output the average score of the player asked upto 2 decimal places.\n",
    "\n",
    "**Input Format**  \n",
    "The first line of input consist of number of players, N\n",
    "Next N lines consists of player name and their score in last three matches space separately.\n",
    "The last line of the input consist of the player in question.\n",
    "\n",
    "**Output Format**  \n",
    "Print the average score of the player asked.\n",
    "\n",
    "**Sample TestCase 1**\n",
    ">**Input**  \n",
    "3<br>\n",
    "Warner 150 100 120  \n",
    "Kohli 10 30 20  \n",
    "Rohit 60 80 40  \n",
    "Kohli  \n",
    "\n",
    "\n",
    ">**Output**  \n",
    "20.00"
   ]
  },
  {
   "cell_type": "code",
   "execution_count": 4,
   "metadata": {},
   "outputs": [],
   "source": [
    "#write code here"
   ]
  },
  {
   "cell_type": "markdown",
   "metadata": {},
   "source": [
    "**Q3.)Lowest Rating**  \n",
    "There are N players with their score in last 3 matches. You will have to create a dictionary and output the \n",
    "average score of the player asked upto 2 decimal places.\n",
    "\n",
    "**Input Format**  \n",
    "The first line of input consist of number of students, N.\n",
    "There are 2 lines of input for each student. The first line consist of student name and second line consist of the rating.\n",
    "\n",
    "**Output Format**  \n",
    "Print the student(s) with lowest rating. If there is more than one student with lowest rating print the \n",
    "names of all in alphabetical order. \n",
    "\n",
    "**Sample TestCase 1**\n",
    ">**Input**  \n",
    "4<br>\n",
    "Rahul  \n",
    "1<br>\n",
    "Yogi  \n",
    "7<br>\n",
    "Modi  \n",
    "9<br>\n",
    "Gulam  \n",
    "1  \n",
    " \n",
    ">**Output**  \n",
    "Gulam  \n",
    "Rahul"
   ]
  },
  {
   "cell_type": "code",
   "execution_count": 1,
   "metadata": {},
   "outputs": [],
   "source": [
    "#write code here"
   ]
  },
  {
   "cell_type": "markdown",
   "metadata": {},
   "source": [
    "<div class=\"jumbotron text-center\">\n",
    "  <h1 class=\"display-3\">Thank You!</h1>\n",
    "  <p class=\"lead\">if you have any queries please feel free to contact on \"Vikash@pentagonspace.in\".</p>\n",
    "  <hr>\n",
    "    <div class=\"a\" align=right>\n",
    "    <font style=\"border:white; border-width:10px; border-style:outset;\"width=\"100\" height=\"100\"  > \n",
    "Vikash </font>\n",
    "</div >\n",
    "</div>"
   ]
  },
  {
   "cell_type": "code",
   "execution_count": null,
   "metadata": {},
   "outputs": [],
   "source": []
  }
 ],
 "metadata": {
  "kernelspec": {
   "display_name": "Python 3 (ipykernel)",
   "language": "python",
   "name": "python3"
  },
  "language_info": {
   "codemirror_mode": {
    "name": "ipython",
    "version": 3
   },
   "file_extension": ".py",
   "mimetype": "text/x-python",
   "name": "python",
   "nbconvert_exporter": "python",
   "pygments_lexer": "ipython3",
   "version": "3.8.11"
  }
 },
 "nbformat": 4,
 "nbformat_minor": 4
}
