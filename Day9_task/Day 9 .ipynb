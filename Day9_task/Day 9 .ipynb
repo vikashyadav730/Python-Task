{
 "cells": [
  {
   "cell_type": "markdown",
   "metadata": {},
   "source": [
    "<h2><img src=\"https://www.pentagonspace.in/assets/images/logo/logo-dark.png\" alt=\"pentagonspace.com/\" align=left></h2>\n",
    "<div class=\"a\" align=right>\n",
    "    <font style=\"border:white; border-width:10px; border-style:outset;\"width=\"100\" height=\"100\" COLOR = 'blue' > \n",
    "Grooming Session </font>\n",
    "</div >\n",
    "\n",
    "<div id=\"myCarousel\" class=\"carousel slide text-center\" data-ride=\"carousel\">\n",
    "\n",
    "  <div class=\"carousel-inner\" role=\"listbox\">\n",
    "    <div class=\"item active\">\n",
    "    <h2>Day 9 Questions </h2>\n",
    "    </div>\n",
    "  </div>\n"
   ]
  },
  {
   "cell_type": "markdown",
   "metadata": {},
   "source": [
    "***``Note: Do not use any Method like : max,min,sort,....``***"
   ]
  },
  {
   "cell_type": "markdown",
   "metadata": {},
   "source": [
    "**Q1.)Second Highest**  \n",
    "There are a total N students present in today's class. You are given student names and their respective height (in cms). You have to find names of all the second highest students (according to their heights). If there are multiple students , print each name on new line Print name of all the students having second highest height in alphabetical order.\n",
    "\n",
    "**Input Format**  \n",
    "First line will contain an Integer N, denoting the number of students.  \n",
    "Next 2 * N lines contains description of each student. first line contains name of the student and second line contains height of the student.\n",
    "\n",
    "**Output Format**  \n",
    "Print name of all the students having second highest height in alphabetical order.\n",
    "\n",
    "**Sample TestCase 1**\n",
    ">**Input**  \n",
    "4<br>\n",
    "saurabh  \n",
    "102  \n",
    "arpit  \n",
    "120  \n",
    "aditya  \n",
    "102  \n",
    "varun  \n",
    "101  \n",
    "\n",
    ">**Output**  \n",
    "aditya  \n",
    "saurabh"
   ]
  },
  {
   "cell_type": "code",
   "execution_count": 15,
   "metadata": {},
   "outputs": [],
   "source": [
    "#write code here\n"
   ]
  },
  {
   "cell_type": "markdown",
   "metadata": {},
   "source": [
    "**Q2.)Average Score**  \n",
    "There are N players with their score in last 3 matches. You will have to create a dictionary and output the average score of the player asked upto 2 decimal places.\n",
    "\n",
    "**Input Format**  \n",
    "The first line of input consist of number of players, N  \n",
    "Next N lines consists of player name and their score in last three matches space separately.  \n",
    "The last line of the input consist of the player in question.\n",
    "\n",
    "**Output Format**  \n",
    "Print the average score of the player asked.\n",
    "\n",
    "**Sample TestCase 1**\n",
    ">**Input**  \n",
    "3<br>\n",
    "Warner 150 100 120  \n",
    "Kohli 10 30 20  \n",
    "Rohit 60 80 40  \n",
    "Kohli  \n",
    "\n",
    "\n",
    ">**Output**  \n",
    "20.00"
   ]
  },
  {
   "cell_type": "code",
   "execution_count": 14,
   "metadata": {},
   "outputs": [],
   "source": [
    "#write code here  \n"
   ]
  },
  {
   "cell_type": "markdown",
   "metadata": {},
   "source": [
    "**Q3.)Lowest Rating**  \n",
    "There are N players with their score in last 3 matches. You will have to create a dictionary and output the \n",
    "average score of the player asked upto 2 decimal places.\n",
    "\n",
    "**Input Format**  \n",
    "The first line of input consist of number of students, N.  \n",
    "There are 2 lines of input for each student. The first line consist of student name and second line consist of the rating.\n",
    "\n",
    "**Output Format**  \n",
    "Print the student(s) with lowest rating. If there is more than one student with lowest rating print the \n",
    "names of all in alphabetical order. \n",
    "\n",
    "**Sample TestCase 1**\n",
    ">**Input**  \n",
    "4<br>\n",
    "Rahul  \n",
    "1<br>\n",
    "Yogi  \n",
    "7<br>\n",
    "Modi  \n",
    "9<br>\n",
    "Gulam  \n",
    "1  \n",
    " \n",
    ">**Output**  \n",
    "Gulam  \n",
    "Rahul"
   ]
  },
  {
   "cell_type": "code",
   "execution_count": 1,
   "metadata": {},
   "outputs": [],
   "source": [
    "#write code here"
   ]
  },
  {
   "cell_type": "markdown",
   "metadata": {},
   "source": [
    "**Q4.** ISBN-10 identifiers are ten digits long. The first nine characters are digits 0-9. The last digit can be 0-9 or X, to indicate a value of 10.\n",
    "An ISBN-10 number is valid if the sum of the digits multiplied by their position modulo 11 equals zero.\n",
    "\n",
    "**For example:**\n",
    "\n",
    ">ISBN     : 1 1 1 2 2 2 3 3 3  9  \n",
    "position : 1 2 3 4 5 6 7 8 9 10  \n",
    "This is a valid ISBN, because:\n",
    "\n",
    ">`(1*1 + 1*2 + 1*3 + 2*4 + 2*5 + 2*6 + 3*7 + 3*8 + 3*9 + 9*10) % 11 = 0`  \n",
    "\n",
    "**Examples**  \n",
    ">1112223339   -->  true  \n",
    ">111222333    -->  false"
   ]
  },
  {
   "cell_type": "code",
   "execution_count": 13,
   "metadata": {},
   "outputs": [],
   "source": [
    "#write code here"
   ]
  },
  {
   "cell_type": "markdown",
   "metadata": {},
   "source": [
    "**Q5.)Collections-Counter**  \n",
    "Collections module implements specialized container datatypes providing alternatives to Python s general purpose built-in containers, dict, list, set, and tuple.\n",
    "A Counter is a dict subclass for counting hashable objects. It is an unordered collection where elements are stored as dictionary keys and their counts are stored as dictionary values. Counts are allowed to be any integer value including zero or negative counts. The Counter class is similar to bags or multisets in other languages.\n",
    "Your task is to find the top two most recurring characters in a given string using most_common() function of the module.\n",
    "\n",
    "**Input Format**  \n",
    "First line will contain a string s.\n",
    "\n",
    "**Output Format**  \n",
    "Output the two most recurring characters in the string along with their frequencies. \n",
    "\n",
    "**Sample TestCase 1**  \n",
    ">**Input**  \n",
    ">>asdasddds  \n",
    "\n",
    ">**Output**  \n",
    ">>('d', 4) ('s', 3)\n",
    "\n",
    "**Explanation**  \n",
    "Count of 'a' : 2  \n",
    "Count of 'd' : 4  \n",
    "Count of 's' : 3  "
   ]
  },
  {
   "cell_type": "code",
   "execution_count": null,
   "metadata": {},
   "outputs": [],
   "source": [
    "#write code here"
   ]
  },
  {
   "cell_type": "markdown",
   "metadata": {},
   "source": [
    "<div class=\"jumbotron text-center\">\n",
    "  <h1 class=\"display-3\">Thank You!</h1>\n",
    "  <p class=\"lead\">If you have any queries please feel free to contact on \"Vikash@pentagonspace.in\".</p>\n",
    "</div>"
   ]
  },
  {
   "cell_type": "code",
   "execution_count": null,
   "metadata": {},
   "outputs": [],
   "source": []
  }
 ],
 "metadata": {
  "kernelspec": {
   "display_name": "Python 3 (ipykernel)",
   "language": "python",
   "name": "python3"
  },
  "language_info": {
   "codemirror_mode": {
    "name": "ipython",
    "version": 3
   },
   "file_extension": ".py",
   "mimetype": "text/x-python",
   "name": "python",
   "nbconvert_exporter": "python",
   "pygments_lexer": "ipython3",
   "version": "3.8.11"
  }
 },
 "nbformat": 4,
 "nbformat_minor": 4
}
