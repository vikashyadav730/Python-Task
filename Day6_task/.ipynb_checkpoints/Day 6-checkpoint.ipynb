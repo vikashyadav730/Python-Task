{
 "cells": [
  {
   "cell_type": "markdown",
   "metadata": {},
   "source": [
    "<h2><img src=\"https://www.pentagonspace.in/assets/images/logo/logo-dark.png\" alt=\"pentagonspace.com/\" align=left></h2>\n",
    "<div class=\"a\" align=right>\n",
    "    <font style=\"border:white; border-width:10px; border-style:outset;\"width=\"100\" height=\"100\" color = 'blue'> \n",
    "Grooming Session </font>\n",
    "</div >\n",
    "<style>\n",
    "body {\n",
    "  font-family: 'Brush Script MT', cursive;\n",
    "}\n",
    "</style>\n",
    "<div id=\"myCarousel\" class=\"carousel slide text-center\" data-ride=\"carousel\">\n",
    "\n",
    "  <div class=\"carousel-inner\" role=\"listbox\">\n",
    "    <div class=\"item active\">\n",
    "    <h2>Day 6 Questions </h2>\n",
    "    </div>\n",
    "  </div>\n"
   ]
  },
  {
   "cell_type": "markdown",
   "metadata": {},
   "source": [
    "***``Note: Do not use any Method like : max,min,sort,....``***"
   ]
  },
  {
   "cell_type": "markdown",
   "metadata": {},
   "source": [
    "**Q1.)Key in dictionary**  \n",
    "Write a Python program to check whether a given key already exists in a dictionary.  \n",
    ">data = {1: 10, 2: 20, 3: 30, 4: 40, 5: 50, 6: 60}\n",
    "\n",
    "**Input Format**  \n",
    "You will be taking a key name from user.\n",
    "\n",
    "**Output Format**  \n",
    "You need to print whether a key exists in a dictionary or not.\n",
    "\n",
    "**Sample TestCase 1**\n",
    ">**Input**  \n",
    "2\n",
    "\n",
    ">**Output**  \n",
    "Key is present in the dictionary\n",
    "\n",
    "**Sample TestCase 2**\n",
    ">**Input**  \n",
    "8\n",
    "\n",
    ">**Output**  \n",
    "Key is not present in the dictionary"
   ]
  },
  {
   "cell_type": "code",
   "execution_count": 1,
   "metadata": {},
   "outputs": [],
   "source": [
    "#write code here"
   ]
  },
  {
   "cell_type": "markdown",
   "metadata": {},
   "source": [
    "**Q2.)Remove duplicates**  \n",
    "Write a Python program to remove key,value whenever you are getting duplicate values from dictionary. \n",
    ">data = {1: 10, 2: 20, 3: 30, 4: 40, 5: 30, 6: 60}\n",
    "\n",
    "**Input Format**  \n",
    "You will be taking a dictionary.\n",
    "\n",
    "**Output Format**  \n",
    "You need to print without duplicates values dictionary .\n",
    "\n",
    "**Sample TestCase 1**\n",
    ">**Input**  \n",
    "{1: 10, 2: 20, 3: 30, 4: 40, 5: 30, 6: 60}\n",
    "\n",
    ">**Output**  \n",
    "{1: 10, 2: 20, 3: 30, 4: 40, 6: 60}\n"
   ]
  },
  {
   "cell_type": "code",
   "execution_count": 2,
   "metadata": {},
   "outputs": [],
   "source": [
    "#write code here"
   ]
  },
  {
   "cell_type": "markdown",
   "metadata": {},
   "source": [
    "**Q3.)Collections-NamedTuple**  \n",
    "Named tuples assign meaning to each position in a tuple and allow for more readable, self-documenting code. They can be used wherever regular tuples are used, and they add the ability to access fields by name instead of position index.\n",
    "You are given a data containing test results of class. The dataset consists of two columns namely : 'marks' and 'name'. These two Columns can be in any order i.e. ('name' followed by 'marks' or vice versa).\n",
    "You have to find the average marks for the whole class.\n",
    "\n",
    "\n",
    "**Input Format**  \n",
    "First line will contain an Integer N, denoting the number of students.\n",
    "Next line will contain two string denoting the column heading.\n",
    "Next N lines will contain marks and name of the students respective of column headings.\n",
    "\n",
    "**Output Format**  \n",
    "Output the average marks of the class rounded off to two decimal places.\n",
    "\n",
    "**Sample TestCase 1**  \n",
    ">**Input**  \n",
    "3<br>\n",
    "#marks names  \n",
    "10 arpit  \n",
    "20 anushka  \n",
    "35 rakshita  \n",
    "\n",
    ">**Output**\n",
    "21.67"
   ]
  },
  {
   "cell_type": "code",
   "execution_count": null,
   "metadata": {},
   "outputs": [],
   "source": [
    "#write code here"
   ]
  },
  {
   "cell_type": "markdown",
   "metadata": {},
   "source": [
    "**Q4. Class Record**  \n",
    "You are given a dataset of N students belonging to the same class.  \n",
    "The data contains name of the student followed by marks they scored in five subjects which are Physics, Chemsistry, Maths, English, Hindi.  \n",
    "Your task is find the average marks of the class for each individual subject.  \n",
    "\n",
    "**Output Format**  \n",
    "You have to print average marks upto two decimal places for each subject followed by a space. \n",
    ">**Sample Testcase**  \n",
    ">2<br>\n",
    ">arpit 100 75 40 56 53  \n",
    ">anushka 100 100 76 100 100  \n",
    "\n",
    ">**Output**  \n",
    "> 100.00 87.50 58.00 78.00 76.50"
   ]
  },
  {
   "cell_type": "code",
   "execution_count": 1,
   "metadata": {},
   "outputs": [],
   "source": [
    "#write code here"
   ]
  },
  {
   "cell_type": "markdown",
   "metadata": {},
   "source": [
    "**Q5.Cartesian Product**  \n",
    "Aahan has provided you two list X and Y. He needs you to find the cartesian product X *  Y for him.\n",
    "\n",
    "**Input Format**  \n",
    "The first line of input consist of elements of X space separately.  \n",
    "The second line of input consist of elements of Y separately.\n",
    "\n",
    "**Output Format**  \n",
    "Print the cartesian product X * Y\n",
    "\n",
    "**Sample TestCase**\n",
    ">**Input**  \n",
    "2 4  \n",
    "3 5\n",
    "\n",
    ">**Output**  \n",
    "(2, 3) (2, 5) (4, 3) (4, 5)"
   ]
  },
  {
   "cell_type": "code",
   "execution_count": null,
   "metadata": {},
   "outputs": [],
   "source": [
    "#write code here"
   ]
  },
  {
   "cell_type": "markdown",
   "metadata": {},
   "source": [
    "<div class=\"jumbotron text-center\">\n",
    "  <h1 class=\"display-3\">Thank You!</h1>\n",
    "  <p class=\"lead\">if you have any queries please feel free to contact on \"Vikash@pentagonspace.in\".</p>\n",
    "  <hr>\n",
    "    <div class=\"a\" align=right>\n",
    "    <font style=\"border:white; border-width:10px; border-style:outset;\"width=\"100\" height=\"100\"  > \n",
    "Vikash </font>\n",
    "</div >\n",
    "</div>"
   ]
  },
  {
   "cell_type": "code",
   "execution_count": null,
   "metadata": {},
   "outputs": [],
   "source": []
  }
 ],
 "metadata": {
  "kernelspec": {
   "display_name": "Python 3 (ipykernel)",
   "language": "python",
   "name": "python3"
  },
  "language_info": {
   "codemirror_mode": {
    "name": "ipython",
    "version": 3
   },
   "file_extension": ".py",
   "mimetype": "text/x-python",
   "name": "python",
   "nbconvert_exporter": "python",
   "pygments_lexer": "ipython3",
   "version": "3.8.11"
  }
 },
 "nbformat": 4,
 "nbformat_minor": 4
}
