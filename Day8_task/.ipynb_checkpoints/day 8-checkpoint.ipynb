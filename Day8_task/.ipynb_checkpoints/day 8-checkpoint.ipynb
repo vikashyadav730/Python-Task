{
 "cells": [
  {
   "cell_type": "markdown",
   "metadata": {},
   "source": [
    "<h2><img src=\"https://www.pentagonspace.in/assets/images/logo/logo-dark.png\" alt=\"pentagonspace.com/\" align=left></h2>\n",
    "<div class=\"a\" align=right>\n",
    "    <font style=\"border:white; border-width:10px; border-style:outset;\"width=\"100\" height=\"100\" color = 'blue' > \n",
    "Grooming Session </font>\n",
    "</div >\n",
    "<style>\n",
    "body {\n",
    "  font-family: 'Brush Script MT', cursive;\n",
    "}\n",
    "</style>\n",
    "<div id=\"myCarousel\" class=\"carousel slide text-center\" data-ride=\"carousel\">\n",
    "\n",
    "  <div class=\"carousel-inner\" role=\"listbox\">\n",
    "    <div class=\"item active\">\n",
    "    <h2>Day 8 Questions </h2>\n",
    "    </div>\n",
    "  </div>\n"
   ]
  },
  {
   "cell_type": "markdown",
   "metadata": {},
   "source": [
    "***``Note: Do not use any Method like : max,min,sort,....``***"
   ]
  },
  {
   "cell_type": "markdown",
   "metadata": {},
   "source": [
    "**Q1.)Football points**  \n",
    "Create a function that take the number of wins,drow and losses and calculates the number of points a football team has obtained so far.\n",
    "\n",
    "\twins get 3 points\n",
    "\tdraws get 1 points\n",
    "\tlosses get 0 points\n",
    "\n",
    "\n",
    "**Input Format**  \n",
    "You will be taking a values as input from user.\n",
    "\n",
    "**Output Format**  \n",
    "You need to print total point from football team.\n",
    "\n",
    "**Sample TestCase 1**\n",
    ">**Input**  \n",
    "myfunction(3,4,2) \n",
    "\n",
    ">**Output**  \n",
    "13\n",
    "\n",
    "**Sample TestCase 2**\n",
    ">**Input**  \n",
    "myfunction(5,0,2)\n",
    "\n",
    ">**Output**  \n",
    "15"
   ]
  },
  {
   "cell_type": "code",
   "execution_count": 1,
   "metadata": {},
   "outputs": [],
   "source": [
    "#write code here"
   ]
  },
  {
   "cell_type": "markdown",
   "metadata": {},
   "source": [
    "**Q2.Order**  \n",
    "There are N members of a committee. A list is to made in alphabetical order. Print the name in alphabetical order.\n",
    "\n",
    "**Input Format**  \n",
    "The first line of input consist of number of members, N.\n",
    "Next N lines consist of name of members.\n",
    "\n",
    "**Sample TestCase**  \n",
    "**Input**\n",
    "\n",
    "6<br>\n",
    "Vikash  \n",
    "Rahul  \n",
    "Alia  \n",
    "Sushma  \n",
    "Faruk  \n",
    "Varun  \n",
    "\n",
    "**Output**\n",
    "\n",
    "Alia  \n",
    "Faruk  \n",
    "Rahul  \n",
    "Sushma  \n",
    "Varun  \n",
    "Vikash  \n"
   ]
  },
  {
   "cell_type": "code",
   "execution_count": 1,
   "metadata": {},
   "outputs": [],
   "source": [
    "#write code here"
   ]
  },
  {
   "cell_type": "markdown",
   "metadata": {},
   "source": [
    "**Q3.Python-Tuples**  \n",
    "A tuple is a sequence of immutable Python objects. Tuples are sequences, just like lists. The differences between tuples and lists are, the tuples cannot be changed unlike lists and tuples use parentheses, whereas lists use square brackets.\n",
    "You are given N Integers. Your task is to create a tuple and insert all the given integers into it.\n",
    "After insertion, You have to print the count of a particular element X (total number of occurrence of that element) in the tuple.\n",
    "\n",
    "**Input Format**  \n",
    "First Line will contain an Integer N, denoting the number of elements to be inserted into the tuple.\n",
    "Next Line contains N integers.\n",
    "Next Line will contain an Integer X.\n",
    "\n",
    "**Output Format**  \n",
    "You have to print the count of element X in the tuple.\n",
    "\n",
    "**Sample TestCase**  \n",
    ">**Input**  \n",
    "4<br>\n",
    "1 3 3 5  \n",
    "3\n",
    "\n",
    ">**Output**\n",
    "2"
   ]
  },
  {
   "cell_type": "code",
   "execution_count": null,
   "metadata": {},
   "outputs": [],
   "source": [
    "#write code here"
   ]
  },
  {
   "cell_type": "markdown",
   "metadata": {},
   "source": [
    "**Q4.Power**  \n",
    "Rohan wants to find the power x to y.  x and y are the inputs given.\n",
    "\n",
    "**Input Format**  \n",
    "The only line of input consist of space separated integers x and y.\n",
    "\n",
    "**Output Format**  \n",
    "Print x to the power y\n",
    "\n",
    "**Sample TestCase**  \n",
    ">**Input**  \n",
    "2 3\n",
    "\n",
    ">**Output**  \n",
    "8"
   ]
  },
  {
   "cell_type": "code",
   "execution_count": 1,
   "metadata": {},
   "outputs": [],
   "source": [
    "#Write code here"
   ]
  },
  {
   "cell_type": "markdown",
   "metadata": {},
   "source": [
    "<div class=\"jumbotron text-center\">\n",
    "  <h1 class=\"display-3\">Thank You!</h1>\n",
    "  <p class=\"lead\">If you have any queries please feel free to contact on \"Vikash@pentagonspace.in\".</p>\n",
    "</div>"
   ]
  },
  {
   "cell_type": "code",
   "execution_count": null,
   "metadata": {},
   "outputs": [],
   "source": []
  }
 ],
 "metadata": {
  "kernelspec": {
   "display_name": "Python 3 (ipykernel)",
   "language": "python",
   "name": "python3"
  },
  "language_info": {
   "codemirror_mode": {
    "name": "ipython",
    "version": 3
   },
   "file_extension": ".py",
   "mimetype": "text/x-python",
   "name": "python",
   "nbconvert_exporter": "python",
   "pygments_lexer": "ipython3",
   "version": "3.8.11"
  }
 },
 "nbformat": 4,
 "nbformat_minor": 4
}
