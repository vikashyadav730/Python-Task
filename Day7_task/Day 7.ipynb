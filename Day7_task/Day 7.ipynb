{
 "cells": [
  {
   "cell_type": "markdown",
   "metadata": {},
   "source": [
    "<h2><img src=\"https://www.pentagonspace.in/assets/images/logo/logo-dark.png\" alt=\"pentagonspace.com/\" align=left></h2>\n",
    "<div class=\"a\" align=right>\n",
    "    <font style=\"border:white; border-width:10px; border-style:outset;\"width=\"100\" height=\"100\" color ='blue' > \n",
    "Grooming Session </font>\n",
    "</div >\n",
    "<style>\n",
    "body {\n",
    "  font-family: 'Brush Script MT', cursive;\n",
    "}\n",
    "</style>\n",
    "<div id=\"myCarousel\" class=\"carousel slide text-center\" data-ride=\"carousel\">\n",
    "\n",
    "  <div class=\"carousel-inner\" role=\"listbox\">\n",
    "    <div class=\"item active\">\n",
    "    <h2>Day 7 Questions</h2>\n",
    "    </div>\n",
    "  </div>\n"
   ]
  },
  {
   "cell_type": "markdown",
   "metadata": {},
   "source": [
    "***``Note: Do not use any Method like : max,min,sort,....``***"
   ]
  },
  {
   "cell_type": "markdown",
   "metadata": {},
   "source": [
    "**Q1.)Element wise sum**  \n",
    "Write a function to compute element wise sum of given list of tuples.\n",
    "\n",
    "**Input Format**  \n",
    "You will be taking a values as list.\n",
    "\n",
    "**Output Format**  \n",
    "You need to print the element wise sum of list in tuples.\n",
    "\n",
    "**Sample TestCase 1**\n",
    ">**Input**  \n",
    "[(3, 4, 6, 73), (1, 2), (13, 34, 34)]\n",
    "\n",
    ">**Output**  \n",
    "(17,40,40,73)"
   ]
  },
  {
   "cell_type": "code",
   "execution_count": 6,
   "metadata": {},
   "outputs": [],
   "source": [
    "#write code here "
   ]
  },
  {
   "cell_type": "markdown",
   "metadata": {},
   "source": [
    "**Q2.)Replace values**  \n",
    "Write a function to replace last value of tuples with 100.\n",
    "\n",
    "**Input Format**  \n",
    "You will be taking a values as list.\n",
    "\n",
    "**Output Format**  \n",
    "You need to print list with updated values.\n",
    "\n",
    "**Sample TestCase 1**\n",
    ">**Input**  \n",
    "[(10, 20, 40), (40, 50, 60), (70, 80, 90)] \n",
    "\n",
    ">**Output**  \n",
    "[(10, 20, 100), (40, 50, 100), (70, 80, 100)]"
   ]
  },
  {
   "cell_type": "code",
   "execution_count": 3,
   "metadata": {},
   "outputs": [],
   "source": [
    "#write code here"
   ]
  },
  {
   "cell_type": "markdown",
   "metadata": {},
   "source": [
    "**Q3.) Dictionary Merge**  \n",
    "Your task is to implement a function that takes one or more dictionaries and combines them in one result dictionary.\n",
    "\n",
    "The keys in the given dictionaries can overlap. In that case you should combine all source values in an array. Duplicate values should be preserved.\n",
    "\n",
    "**Here is an example:**  \n",
    "***Input***  \n",
    ">source1 = {\"A\": 1, \"B\": 2}<br>\n",
    ">source2 = {\"A\": 3}\n",
    "\n",
    "***Output***  \n",
    ">{\"A\": [1, 3]}, \"B\": [2]}  \n",
    "\n",
    "**Explanation**  \n",
    "result = merge(source1, source2);  \n",
    "// result should have this content: {\"A\": [1, 3]}, \"B\": [2]}  \n",
    "You can assume that only valid dictionaries are passed to your function. The number of given dictionaries might be large. So take care about performance."
   ]
  },
  {
   "cell_type": "code",
   "execution_count": 10,
   "metadata": {},
   "outputs": [],
   "source": [
    "#write code here   \n"
   ]
  },
  {
   "cell_type": "markdown",
   "metadata": {},
   "source": [
    "**Q4.) Alternating between three values**  \n",
    "Suppose a variable x can have only three possible different values a, b and c, and you wish to assign to x the value other than its current one, and you wish your code to be independent of the values of a, b and c.\n",
    "\n",
    "What is the most efficient way to cycle among three values? Write a function f so that it satisfies\n",
    "\n",
    "  f(a) = b  \n",
    "  f(b) = c  \n",
    "  f(c) = a\n",
    "  \n",
    "**Explanation**  \n",
    "  f(10, a=10, b=20, c=100) -> 20  \n",
    "  f(20, a=10, b=20, c=100) -> 100  \n",
    "  f(100, a=10, b=20, c=100) -> 10"
   ]
  },
  {
   "cell_type": "code",
   "execution_count": 1,
   "metadata": {},
   "outputs": [],
   "source": [
    "#write code here\n"
   ]
  },
  {
   "cell_type": "markdown",
   "metadata": {},
   "source": [
    "**Q5. How old will I be in 2099?**  \n",
    "Philip's just turned four and he wants to know how old he will be in various years in the future such as 2090 or 3044. His parents can't keep up calculating this so they've begged you to help them out by writing a programme that can answer Philip's endless questions.\n",
    "\n",
    "Your task is to write a function that takes two parameters: the year of birth and the year to count years in relation to. As Philip is getting more curious every day he may soon want to know how many years it was until he would be born, so your function needs to work with both dates in the future and in the past.\n",
    "\n",
    "Provide output in this format: For dates in the future: \"You are ... year(s) old.\" For dates in the past: \"You will be born in ... year(s).\" If the year of birth equals the year requested return: \"You were born this very year!\"\n",
    "\n",
    "\"...\" are to be replaced by the number, followed and proceeded by a single space. Mind that you need to account for both \"year\" and \"years\", depending on the result.\n",
    "\n",
    "Good Luck!\n",
    "\n",
    "**example1:**  \n",
    "***Input***  \n",
    "\n",
    "calculate_age(2012, 2016)\n",
    "Note: \"calculate_age\" is Function name and it might be anything.\n",
    "\n",
    "***Output***  \n",
    ">\"You are 4 years old.\"\n",
    "\n",
    "**example2:**  \n",
    "***Input***  \n",
    "\n",
    "calculate_age(2000, 1990)\n",
    "Note: \"calculate_age\" is Function name and it might be anything.\n",
    "\n",
    "***Output***  \n",
    ">\"You will be born in 10 years.\"\n",
    "\n",
    "**example3:**  \n",
    "***Input***  \n",
    "\n",
    "calculate_age(2000, 2000)\n",
    "Note: \"calculate_age\" is Function name and it might be anything.\n",
    "\n",
    "***Output***  \n",
    ">\"You were born this very year!\""
   ]
  },
  {
   "cell_type": "code",
   "execution_count": 11,
   "metadata": {},
   "outputs": [],
   "source": [
    "#write code here\n"
   ]
  },
  {
   "cell_type": "markdown",
   "metadata": {},
   "source": [
    "<div class=\"jumbotron text-center\">\n",
    "  <h1 class=\"display-3\">Thank You!</h1>\n",
    "  <p class=\"lead\">If you have any queries please feel free to contact on \"Vikash@pentagonspace.in\".</p>\n",
    "</div>"
   ]
  }
 ],
 "metadata": {
  "kernelspec": {
   "display_name": "Python 3 (ipykernel)",
   "language": "python",
   "name": "python3"
  },
  "language_info": {
   "codemirror_mode": {
    "name": "ipython",
    "version": 3
   },
   "file_extension": ".py",
   "mimetype": "text/x-python",
   "name": "python",
   "nbconvert_exporter": "python",
   "pygments_lexer": "ipython3",
   "version": "3.8.11"
  }
 },
 "nbformat": 4,
 "nbformat_minor": 4
}
