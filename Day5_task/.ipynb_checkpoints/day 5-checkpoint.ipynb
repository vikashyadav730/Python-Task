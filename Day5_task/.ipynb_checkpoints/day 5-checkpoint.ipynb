{
 "cells": [
  {
   "cell_type": "markdown",
   "metadata": {},
   "source": [
    "<h2><img src=\"https://www.pentagonspace.in/assets/images/logo/logo-dark.png\" alt=\"pentagonspace.com/\" align=left></h2>\n",
    "<div class=\"a\" align=right>\n",
    "    <h4><font style=\"border:white; border-width:10px; border-style:outset;\"width=\"100\" height=\"100\" color = 'blue'>\n",
    "Bootcamp Session </font></h4>\n",
    "</div >\n",
    "\n",
    "<div id=\"myCarousel\" class=\"carousel slide text-center\" data-ride=\"carousel\">\n",
    "\n",
    "  <div class=\"carousel-inner\" role=\"listbox\">\n",
    "    <div class=\"item active\">\n",
    "    <h3>Day5 Questions </h3>\n",
    "    </div>\n",
    "  </div>\n"
   ]
  },
  {
   "cell_type": "markdown",
   "metadata": {},
   "source": [
    "**Q1.)Managing Bank**  \n",
    "You are working as a Manager in a bank. At the end of the day, You have to send a report to your supervisors which consists of count of distinct accounts that were operated upon on that particular day.\n",
    "You are given a list containing the account numbers of the customers of the bank according to their time of arrival in the bank.\n",
    "You have to tell the count of distinct accounts.\n",
    "\n",
    "**Input Format**  \n",
    "First line will contain N, denoting the total number of entries in the list.\n",
    "Next line will contain N account numbers separated by space.\n",
    "\n",
    "**Output Format**\n",
    "Output the count of distinct accounts for a particular day.\n",
    "\n",
    "**Sample TestCase 1**\n",
    ">Input  \n",
    "5<br>\n",
    "1 2 3 1 3\n",
    "\n",
    ">Output  \n",
    "3"
   ]
  },
  {
   "cell_type": "code",
   "execution_count": null,
   "metadata": {},
   "outputs": [],
   "source": [
    "#write code here"
   ]
  },
  {
   "cell_type": "markdown",
   "metadata": {},
   "source": [
    "**Q2.)Teacher A**  \n",
    "There are two sets A and B. The set A consists of students rated by teacher A. The set B consists of students rated by teacher B. Some of the students were rated by both. The Principal  wants to find the students who were rated by teacher A only.\n",
    "\n",
    "**Input Format**  \n",
    "The first line of input consist of number of students rated by A\n",
    "The second line of input consist of A Roll number of students rated by A space separately.\n",
    "The first line of input consist of number of students rated by B\n",
    "The second line of input consist of B Roll number of students rated by B space separately.\n",
    "\n",
    "**Output Format**\n",
    "Print the number of students rated by Teacher A only.\n",
    "\n",
    "**Sample TestCase 1**\n",
    ">Input  \n",
    "4<br>\n",
    "3 5 2 4<br> \n",
    "5<br>\n",
    "5 6 7 2 3 \n",
    "\n",
    ">Output  \n",
    "1"
   ]
  },
  {
   "cell_type": "code",
   "execution_count": 3,
   "metadata": {},
   "outputs": [],
   "source": [
    "#write code here\n"
   ]
  },
  {
   "cell_type": "markdown",
   "metadata": {},
   "source": [
    "**Q3.)CITIES**  \n",
    "N applicants have applied for a job in XYZ company. They have a thing for a diversity and want to know the distinct number of cities from which applicants have applied.\n",
    "\n",
    "**Input Format**  \n",
    "The first line of input consist of number of applicants, N\n",
    "\n",
    "Next N lines consist of the cities of applicants\n",
    "\n",
    "**Output Format**  \n",
    "Print the distinct number of cities\n",
    "\n",
    "**Sample TestCase 1**\n",
    ">**Input**  \n",
    "5<br>\n",
    "DELHI  \n",
    "DELHI  \n",
    "CHENNAI  \n",
    "BANGALORE  \n",
    "AMRITSAR  \n",
    "\n",
    "\n",
    ">**Output**  \n",
    "3"
   ]
  },
  {
   "cell_type": "code",
   "execution_count": 5,
   "metadata": {},
   "outputs": [],
   "source": [
    "#write code here"
   ]
  },
  {
   "cell_type": "markdown",
   "metadata": {},
   "source": [
    "**Q4.Order**  \n",
    "There are N members of a committee. A list is to made in alphabetical order.\n",
    "\n",
    "**Input Format**  \n",
    "The first line of input consist of number of members, N.\n",
    "Next N lines consist of name of members.\n",
    "\n",
    "**Output Format**  \n",
    "Print the name in alphabetical order.\n",
    "\n",
    "**Sample TestCase**  \n",
    ">**Input**  \n",
    "5<br>\n",
    "Rahul  \n",
    "Alia  \n",
    "Sushma  \n",
    "Faruk  \n",
    "Varun\n",
    "\n",
    ">**Output**  \n",
    "Alia  \n",
    "Faruk  \n",
    "Rahul  \n",
    "Sushma  \n",
    "Varun"
   ]
  },
  {
   "cell_type": "code",
   "execution_count": null,
   "metadata": {},
   "outputs": [],
   "source": [
    "#write code here"
   ]
  },
  {
   "cell_type": "markdown",
   "metadata": {},
   "source": [
    "**Q5.Divmod**  \n",
    "One of the built-in functions of Python is divmod, which takes two arguments a and b and returns a tuple containing the quotient of a/b first and then the remainder a.\n",
    "Your task is to read in two integers, a and b, and print divmod(a, b).\n",
    "\n",
    "**Input Format**  \n",
    "The first line contains the first integer, a, and the second line contains the second integer, b.\n",
    "\n",
    "**Output Format**  \n",
    "Print a pair of numbers (a tuple) consisting of quotient q and remainder r.\n",
    "\n",
    "**Sample TestCase**  \n",
    ">**Input**  \n",
    "8<br>\n",
    "3\n",
    "\n",
    ">**Output**\n",
    "(2, 2)"
   ]
  },
  {
   "cell_type": "code",
   "execution_count": null,
   "metadata": {},
   "outputs": [],
   "source": [
    "#Write code Here"
   ]
  },
  {
   "cell_type": "markdown",
   "metadata": {},
   "source": [
    "<div class=\"jumbotron text-center\">\n",
    "  <h1 class=\"display-3\">Thank You!</h1>\n",
    "  <p class=\"lead\">If you have any queries please feel free to contact on \"Vikash@pentagonspace.in\".</p>\n",
    "</div>"
   ]
  }
 ],
 "metadata": {
  "kernelspec": {
   "display_name": "Python 3 (ipykernel)",
   "language": "python",
   "name": "python3"
  },
  "language_info": {
   "codemirror_mode": {
    "name": "ipython",
    "version": 3
   },
   "file_extension": ".py",
   "mimetype": "text/x-python",
   "name": "python",
   "nbconvert_exporter": "python",
   "pygments_lexer": "ipython3",
   "version": "3.8.11"
  }
 },
 "nbformat": 4,
 "nbformat_minor": 4
}
